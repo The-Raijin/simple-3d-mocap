{
 "cells": [
  {
   "cell_type": "markdown",
   "metadata": {},
   "source": [
    "## Extract Joints\n",
    "\n",
    "Notebook will get a video from the input folder (inside data folder) and extract human joint positions, exporting it as a txt file.\n",
    "\n",
    "Later on, other code will deal with importing it to Unity or Unreal and creating \"joint objects\" in these environments."
   ]
  },
  {
   "cell_type": "code",
   "execution_count": 2,
   "metadata": {},
   "outputs": [],
   "source": [
    "import mediapipe as mp\n",
    "import cv2\n"
   ]
  },
  {
   "cell_type": "code",
   "execution_count": null,
   "metadata": {},
   "outputs": [],
   "source": []
  }
 ],
 "metadata": {
  "interpreter": {
   "hash": "e462300bf1f12243918e619e16990444a145a0712e6e2f2a901d9674f38c6cf4"
  },
  "kernelspec": {
   "display_name": "Python 3.10.2 ('motion_capture')",
   "language": "python",
   "name": "python3"
  },
  "language_info": {
   "codemirror_mode": {
    "name": "ipython",
    "version": 3
   },
   "file_extension": ".py",
   "mimetype": "text/x-python",
   "name": "python",
   "nbconvert_exporter": "python",
   "pygments_lexer": "ipython3",
   "version": "3.10.2"
  },
  "orig_nbformat": 4
 },
 "nbformat": 4,
 "nbformat_minor": 2
}
